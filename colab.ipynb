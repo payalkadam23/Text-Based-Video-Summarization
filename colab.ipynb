{
  "cells": [
    {
      "cell_type": "code",
      "execution_count": 1,
      "metadata": {
        "colab": {
          "base_uri": "https://localhost:8080/"
        },
        "id": "yc7mI4N2Q8vH",
        "outputId": "4093098b-c373-41cf-d150-95981f250c71"
      },
      "outputs": [
        {
          "name": "stderr",
          "output_type": "stream",
          "text": [
            "'wget' is not recognized as an internal or external command,\n",
            "operable program or batch file.\n",
            "'wget' is not recognized as an internal or external command,\n",
            "operable program or batch file.\n"
          ]
        }
      ],
      "source": [
        "#!wget https://raw.githubusercontent.com/nikharkesari/User-Interest-Based-Video-Summarization-Using-Machine-Learning/main/demo/frame_extraction.py\n",
        "#!wget https://raw.githubusercontent.com/nikharkesari/User-Interest-Based-Video-Summarization-Using-Machine-Learning/main/demo/feature_extraction.py"
      ]
    },
    {
      "cell_type": "code",
      "execution_count": 2,
      "metadata": {
        "colab": {
          "base_uri": "https://localhost:8080/"
        },
        "id": "qw51WwE8UXZB",
        "outputId": "0f02522e-3b15-4164-ef4b-a5c62e8ca8dd"
      },
      "outputs": [
        {
          "name": "stdout",
          "output_type": "stream",
          "text": [
            "Collecting pytube\n",
            "  Downloading pytube-15.0.0-py3-none-any.whl (57 kB)\n",
            "\u001b[?25l     \u001b[90m━━━━━━━━━━━━━━━━━━━━━━━━━━━━━━━━━━━━━━━━\u001b[0m \u001b[32m0.0/57.6 kB\u001b[0m \u001b[31m?\u001b[0m eta \u001b[36m-:--:--\u001b[0m\r\u001b[2K     \u001b[90m━━━━━━━━━━━━━━━━━━━━━━━━━━━━━━━━━━━━━━━━\u001b[0m \u001b[32m57.6/57.6 kB\u001b[0m \u001b[31m2.2 MB/s\u001b[0m eta \u001b[36m0:00:00\u001b[0m\n",
            "\u001b[?25hInstalling collected packages: pytube\n",
            "Successfully installed pytube-15.0.0\n"
          ]
        }
      ],
      "source": [
        "#!pip install pytube"
      ]
    },
    {
      "cell_type": "code",
      "execution_count": 1,
      "metadata": {
        "id": "T426L1UCRsCp"
      },
      "outputs": [
        {
          "name": "stderr",
          "output_type": "stream",
          "text": [
            "c:\\users\\kingn\\appdata\\local\\programs\\python\\python39\\lib\\site-packages\\scipy\\__init__.py:177: UserWarning: A NumPy version >=1.18.5 and <1.26.0 is required for this version of SciPy (detected version 1.26.1\n",
            "  warnings.warn(f\"A NumPy version >={np_minversion} and <{np_maxversion}\"\n"
          ]
        }
      ],
      "source": [
        "import cv2\n",
        "import os\n",
        "import numpy as np\n",
        "import frame_extraction\n",
        "import feature_extraction"
      ]
    },
    {
      "cell_type": "code",
      "execution_count": 3,
      "metadata": {
        "colab": {
          "base_uri": "https://localhost:8080/",
          "height": 35
        },
        "id": "69whbRxVTWBK",
        "outputId": "80bf37e0-8f88-4ccc-f7ab-05be7e08dbde"
      },
      "outputs": [
        {
          "data": {
            "text/plain": [
              "'c:\\\\Users\\\\kingn\\\\Downloads\\\\scratch\\\\colab\\\\input_video.mp4'"
            ]
          },
          "execution_count": 3,
          "metadata": {},
          "output_type": "execute_result"
        }
      ],
      "source": [
        "from pytube import YouTube\n",
        "video_url = \"https://www.youtube.com/watch?v=zdkBo-GSqpo\"\n",
        "yt = YouTube(video_url)\n",
        "stream = yt.streams.get_highest_resolution()\n",
        "stream.download(filename='input_video.mp4')"
      ]
    },
    {
      "cell_type": "code",
      "execution_count": 7,
      "metadata": {
        "colab": {
          "base_uri": "https://localhost:8080/"
        },
        "id": "o9UELjL9Q6zp",
        "outputId": "5a88e6a3-5cb5-4f4f-af71-69520e434123"
      },
      "outputs": [
        {
          "ename": "KeyboardInterrupt",
          "evalue": "",
          "output_type": "error",
          "traceback": [
            "\u001b[1;31m---------------------------------------------------------------------------\u001b[0m",
            "\u001b[1;31mKeyboardInterrupt\u001b[0m                         Traceback (most recent call last)",
            "\u001b[1;32m<ipython-input-7-67a02ffe4f97>\u001b[0m in \u001b[0;36m<module>\u001b[1;34m\u001b[0m\n\u001b[1;32m----> 1\u001b[1;33m \u001b[0mtotal_frames\u001b[0m\u001b[1;33m=\u001b[0m\u001b[0mframe_extraction\u001b[0m\u001b[1;33m.\u001b[0m\u001b[0mextract_frames\u001b[0m\u001b[1;33m(\u001b[0m\u001b[1;34m'input_video.mp4'\u001b[0m\u001b[1;33m,\u001b[0m\u001b[1;36m10\u001b[0m\u001b[1;33m)\u001b[0m \u001b[1;31m#path to the video, desired fps\u001b[0m\u001b[1;33m\u001b[0m\u001b[1;33m\u001b[0m\u001b[0m\n\u001b[0m\u001b[0;32m      2\u001b[0m \u001b[0mframe_extraction\u001b[0m\u001b[1;33m.\u001b[0m\u001b[0mscale_down_frames\u001b[0m\u001b[1;33m(\u001b[0m\u001b[1;34m'frames'\u001b[0m\u001b[1;33m,\u001b[0m\u001b[1;34m'train'\u001b[0m\u001b[1;33m)\u001b[0m \u001b[1;31m#path of input and output folder\u001b[0m\u001b[1;33m\u001b[0m\u001b[1;33m\u001b[0m\u001b[0m\n",
            "\u001b[1;32mc:\\Users\\kingn\\Downloads\\scratch\\colab\\frame_extraction.py\u001b[0m in \u001b[0;36mextract_frames\u001b[1;34m(video_path, desired_fps)\u001b[0m\n\u001b[0;32m     23\u001b[0m                     \u001b[0moutput_directory\u001b[0m\u001b[1;33m,\u001b[0m \u001b[1;34mf\"{image_count:04d}.jpg\"\u001b[0m\u001b[1;33m\u001b[0m\u001b[1;33m\u001b[0m\u001b[0m\n\u001b[0;32m     24\u001b[0m                 )\n\u001b[1;32m---> 25\u001b[1;33m                 \u001b[0mcv2\u001b[0m\u001b[1;33m.\u001b[0m\u001b[0mimwrite\u001b[0m\u001b[1;33m(\u001b[0m\u001b[0mframe_filename\u001b[0m\u001b[1;33m,\u001b[0m \u001b[0mframe\u001b[0m\u001b[1;33m)\u001b[0m\u001b[1;33m\u001b[0m\u001b[1;33m\u001b[0m\u001b[0m\n\u001b[0m\u001b[0;32m     26\u001b[0m \u001b[1;33m\u001b[0m\u001b[0m\n\u001b[0;32m     27\u001b[0m             \u001b[0mframe_count\u001b[0m \u001b[1;33m+=\u001b[0m \u001b[1;36m1\u001b[0m\u001b[1;33m\u001b[0m\u001b[1;33m\u001b[0m\u001b[0m\n",
            "\u001b[1;31mKeyboardInterrupt\u001b[0m: "
          ]
        }
      ],
      "source": [
        "total_frames=frame_extraction.extract_frames('input_video.mp4',10) #path to the video, desired fps\n",
        "frame_extraction.scale_down_frames('frames','train') #path of input and output folder"
      ]
    },
    {
      "cell_type": "code",
      "execution_count": 6,
      "metadata": {
        "id": "oilbdfbPQ6zu"
      },
      "outputs": [],
      "source": [
        "def load_image(path):\n",
        "    image = cv2.imread(path)\n",
        "    image = cv2.cvtColor(image, cv2.COLOR_BGR2RGB)\n",
        "    image = np.expand_dims(image, axis=0)\n",
        "    return image"
      ]
    },
    {
      "cell_type": "code",
      "execution_count": 9,
      "metadata": {
        "id": "tVbDtFxLQ6zv"
      },
      "outputs": [],
      "source": [
        "#storing all the scaled down frames\n",
        "images=[]\n",
        "for path in os.listdir('train'):\n",
        "    images.append(load_image('train/'+path))"
      ]
    },
    {
      "cell_type": "code",
      "execution_count": 7,
      "metadata": {
        "id": "yXXf9YEqQ6zw"
      },
      "outputs": [],
      "source": [
        "import nltk\n",
        "from nltk.corpus import stopwords\n",
        "from nltk.tokenize import word_tokenize\n",
        "import string"
      ]
    },
    {
      "cell_type": "code",
      "execution_count": 8,
      "metadata": {
        "id": "z8ZS0t3AQ6zw"
      },
      "outputs": [],
      "source": [
        "def process_query(query):\n",
        "    tokens = word_tokenize(query)\n",
        "    tokens = [word.lower() for word in tokens]\n",
        "    stop_words = set(stopwords.words('english'))\n",
        "    tokens = [\n",
        "        word for word in tokens if word not in string.punctuation and word not in stop_words]\n",
        "\n",
        "    return tokens"
      ]
    },
    {
      "cell_type": "code",
      "execution_count": 10,
      "metadata": {},
      "outputs": [],
      "source": [
        "total_frames=2350"
      ]
    },
    {
      "cell_type": "code",
      "execution_count": 11,
      "metadata": {
        "colab": {
          "base_uri": "https://localhost:8080/"
        },
        "id": "F_sMYuA-cYCj",
        "outputId": "8a6a3ee4-a56f-4d4b-e728-46fa143eb064"
      },
      "outputs": [
        {
          "name": "stdout",
          "output_type": "stream",
          "text": [
            "Progress: 100.04%\r"
          ]
        }
      ],
      "source": [
        "feature_list={}\n",
        "count=1\n",
        "for x in images:\n",
        "    fr=f'{count:04d}.jpg'\n",
        "    fx=feature_extraction.extract_features(x,0.5)\n",
        "    feature_list[fr]=fx\n",
        "    print(f\"Progress: {(count + 1) / total_frames * 100:.2f}%\", end=\"\\r\")\n",
        "    count+=1"
      ]
    },
    {
      "cell_type": "code",
      "execution_count": 12,
      "metadata": {},
      "outputs": [],
      "source": [
        "import pickle\n",
        "with open(\"feature_list.pkl\", \"wb\") as f:\n",
        "    pickle.dump(feature_list, f)"
      ]
    },
    {
      "cell_type": "code",
      "execution_count": 1,
      "metadata": {},
      "outputs": [],
      "source": [
        "\n",
        "import pickle\n",
        "with open(\"feature_list.pkl\", \"rb\") as f:\n",
        "    feature_list = pickle.load(f)"
      ]
    },
    {
      "cell_type": "code",
      "execution_count": 2,
      "metadata": {
        "id": "gCks8pv0Q6z2"
      },
      "outputs": [],
      "source": [
        "query='cat'\n",
        "selected_frames=[]\n",
        "for fr,fx in feature_list.items():\n",
        "    if query in fx:\n",
        "        selected_frames.append(fr)"
      ]
    },
    {
      "cell_type": "code",
      "execution_count": 3,
      "metadata": {},
      "outputs": [
        {
          "data": {
            "text/plain": [
              "['1526.jpg',\n",
              " '1527.jpg',\n",
              " '1528.jpg',\n",
              " '1529.jpg',\n",
              " '1530.jpg',\n",
              " '1531.jpg',\n",
              " '1532.jpg',\n",
              " '1533.jpg',\n",
              " '1534.jpg',\n",
              " '1535.jpg',\n",
              " '1536.jpg',\n",
              " '1537.jpg',\n",
              " '1538.jpg',\n",
              " '1539.jpg',\n",
              " '1540.jpg',\n",
              " '1541.jpg',\n",
              " '1542.jpg',\n",
              " '1543.jpg',\n",
              " '1544.jpg',\n",
              " '1545.jpg',\n",
              " '1546.jpg',\n",
              " '1547.jpg',\n",
              " '1548.jpg',\n",
              " '1549.jpg',\n",
              " '1550.jpg',\n",
              " '1551.jpg',\n",
              " '1552.jpg',\n",
              " '1553.jpg',\n",
              " '1554.jpg',\n",
              " '1555.jpg',\n",
              " '1556.jpg',\n",
              " '1557.jpg',\n",
              " '1558.jpg',\n",
              " '1559.jpg',\n",
              " '1560.jpg',\n",
              " '1561.jpg',\n",
              " '1562.jpg',\n",
              " '1563.jpg',\n",
              " '1564.jpg',\n",
              " '1565.jpg',\n",
              " '1566.jpg',\n",
              " '1567.jpg',\n",
              " '1568.jpg',\n",
              " '1569.jpg',\n",
              " '1570.jpg',\n",
              " '1571.jpg',\n",
              " '1572.jpg',\n",
              " '1573.jpg',\n",
              " '1574.jpg',\n",
              " '1575.jpg',\n",
              " '1576.jpg',\n",
              " '1577.jpg',\n",
              " '1578.jpg',\n",
              " '1579.jpg',\n",
              " '1580.jpg',\n",
              " '1581.jpg',\n",
              " '1582.jpg',\n",
              " '1583.jpg',\n",
              " '1584.jpg',\n",
              " '1585.jpg',\n",
              " '1586.jpg',\n",
              " '1587.jpg',\n",
              " '1588.jpg',\n",
              " '1589.jpg',\n",
              " '1590.jpg',\n",
              " '1591.jpg',\n",
              " '1592.jpg',\n",
              " '1593.jpg',\n",
              " '1594.jpg',\n",
              " '1595.jpg',\n",
              " '1596.jpg',\n",
              " '1597.jpg',\n",
              " '1598.jpg',\n",
              " '1599.jpg',\n",
              " '1600.jpg',\n",
              " '1601.jpg',\n",
              " '1602.jpg']"
            ]
          },
          "execution_count": 3,
          "metadata": {},
          "output_type": "execute_result"
        }
      ],
      "source": [
        "selected_frames"
      ]
    },
    {
      "cell_type": "code",
      "execution_count": 4,
      "metadata": {
        "id": "nuorkcKIQ6z3"
      },
      "outputs": [],
      "source": [
        "import cv2\n",
        "\n",
        "frame = cv2.imread('frames/0001.jpg')\n",
        "height, width, layers = frame.shape\n",
        "fourcc = cv2.VideoWriter_fourcc('F','M','P','4')\n",
        "video = cv2.VideoWriter('output_video.mp4', fourcc, fps=15, frameSize=(width,height))\n",
        "\n",
        "for img in selected_frames:\n",
        "    video.write(cv2.imread('frames/'+img))\n",
        "\n",
        "cv2.destroyAllWindows()\n",
        "video.release()"
      ]
    },
    {
      "cell_type": "code",
      "execution_count": 33,
      "metadata": {
        "id": "1Nm8BuiLkNMT"
      },
      "outputs": [],
      "source": []
    }
  ],
  "metadata": {
    "accelerator": "GPU",
    "colab": {
      "gpuType": "T4",
      "provenance": []
    },
    "kernelspec": {
      "display_name": "Python 3",
      "name": "python3"
    },
    "language_info": {
      "codemirror_mode": {
        "name": "ipython",
        "version": 3
      },
      "file_extension": ".py",
      "mimetype": "text/x-python",
      "name": "python",
      "nbconvert_exporter": "python",
      "pygments_lexer": "ipython3",
      "version": "3.11.6"
    }
  },
  "nbformat": 4,
  "nbformat_minor": 0
}
